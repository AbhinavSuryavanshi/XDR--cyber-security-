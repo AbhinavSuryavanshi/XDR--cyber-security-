{
 "cells": [
  {
   "cell_type": "code",
   "execution_count": null,
   "id": "2cf3229e",
   "metadata": {},
   "outputs": [
    {
     "name": "stdout",
     "output_type": "stream",
     "text": [
      " * Serving Flask app '__main__'\n",
      " * Debug mode: on\n"
     ]
    },
    {
     "name": "stderr",
     "output_type": "stream",
     "text": [
      "WARNING: This is a development server. Do not use it in a production deployment. Use a production WSGI server instead.\n",
      " * Running on all addresses (0.0.0.0)\n",
      " * Running on http://127.0.0.1:5000\n",
      " * Running on http://192.168.29.9:5000\n",
      "Press CTRL+C to quit\n"
     ]
    },
    {
     "name": "stdout",
     "output_type": "stream",
     "text": [
      " Receiving data for agent: LAPTOP-LGQ3OFRV, DB: laptop_lgq3ofrv_db\n"
     ]
    },
    {
     "name": "stderr",
     "output_type": "stream",
     "text": [
      "C:\\Users\\abhinav\\AppData\\Local\\Temp\\ipykernel_13700\\2767517858.py:43: DeprecationWarning: datetime.datetime.utcnow() is deprecated and scheduled for removal in a future version. Use timezone-aware objects to represent datetimes in UTC: datetime.datetime.now(datetime.UTC).\n",
      "  timestamp = data.get(\"timestamp\", datetime.utcnow().timestamp())\n",
      "C:\\Users\\abhinav\\AppData\\Local\\Temp\\ipykernel_13700\\2767517858.py:122: DeprecationWarning: datetime.datetime.utcnow() is deprecated and scheduled for removal in a future version. Use timezone-aware objects to represent datetimes in UTC: datetime.datetime.now(datetime.UTC).\n",
      "  proc_ts = proc.get(\"timestamp\", datetime.utcnow().timestamp())\n",
      "192.168.29.9 - - [02/Jun/2025 19:07:40] \"POST /ingest HTTP/1.1\" 200 -\n"
     ]
    },
    {
     "name": "stdout",
     "output_type": "stream",
     "text": [
      "Data ingested into database: laptop_lgq3ofrv_db\n",
      " Receiving data for agent: LAPTOP-LGQ3OFRV, DB: laptop_lgq3ofrv_db\n"
     ]
    },
    {
     "name": "stderr",
     "output_type": "stream",
     "text": [
      "192.168.29.9 - - [02/Jun/2025 19:09:42] \"POST /ingest HTTP/1.1\" 200 -\n"
     ]
    },
    {
     "name": "stdout",
     "output_type": "stream",
     "text": [
      "Data ingested into database: laptop_lgq3ofrv_db\n",
      " Receiving data for agent: LAPTOP-LGQ3OFRV, DB: laptop_lgq3ofrv_db\n"
     ]
    },
    {
     "name": "stderr",
     "output_type": "stream",
     "text": [
      "192.168.29.9 - - [02/Jun/2025 19:11:47] \"POST /ingest HTTP/1.1\" 200 -\n"
     ]
    },
    {
     "name": "stdout",
     "output_type": "stream",
     "text": [
      "Data ingested into database: laptop_lgq3ofrv_db\n",
      " Receiving data for agent: LAPTOP-LGQ3OFRV, DB: laptop_lgq3ofrv_db\n"
     ]
    },
    {
     "name": "stderr",
     "output_type": "stream",
     "text": [
      "192.168.29.9 - - [02/Jun/2025 19:13:50] \"POST /ingest HTTP/1.1\" 200 -\n"
     ]
    },
    {
     "name": "stdout",
     "output_type": "stream",
     "text": [
      "Data ingested into database: laptop_lgq3ofrv_db\n",
      " Receiving data for agent: LAPTOP-LGQ3OFRV, DB: laptop_lgq3ofrv_db\n"
     ]
    },
    {
     "name": "stderr",
     "output_type": "stream",
     "text": [
      "192.168.29.9 - - [02/Jun/2025 19:15:48] \"POST /ingest HTTP/1.1\" 500 -\n"
     ]
    },
    {
     "name": "stdout",
     "output_type": "stream",
     "text": [
      " Server Error: 1406 (22001): Data too long for column 'open_file' at row 1\n",
      " Receiving data for agent: LAPTOP-LGQ3OFRV, DB: laptop_lgq3ofrv_db\n"
     ]
    },
    {
     "name": "stderr",
     "output_type": "stream",
     "text": [
      "192.168.29.9 - - [02/Jun/2025 19:17:47] \"POST /ingest HTTP/1.1\" 200 -\n"
     ]
    },
    {
     "name": "stdout",
     "output_type": "stream",
     "text": [
      "Data ingested into database: laptop_lgq3ofrv_db\n"
     ]
    }
   ],
   "source": [
    "from flask import Flask, request, jsonify\n",
    "import mysql.connector\n",
    "from mysql.connector import errorcode\n",
    "from datetime import datetime\n",
    "\n",
    "#  Flask app setup \n",
    "# This is a simple Flask application that ingests system and process metrics from agents and stores them in a MySQL database.\n",
    "app = Flask(__name__)   \n",
    "\n",
    "# Base DB credentials\n",
    "db_config = {\n",
    "    'host': 'localhost',\n",
    "    'user': 'root',\n",
    "    'password': 'root',\n",
    "}\n",
    "\n",
    "AUTH_TOKEN = \"psg_xdr_agent_token\"\n",
    "\n",
    "def create_database(cursor, db_name):\n",
    "    cursor.execute(f\"CREATE DATABASE IF NOT EXISTS `{db_name}` DEFAULT CHARACTER SET 'utf8'\")\n",
    "\n",
    "def sanitize_db_name(name: str) -> str:\n",
    "    \"\"\"Removes problematic characters from system names for MySQL DB\"\"\"\n",
    "    return name.strip().lower().replace('-', '_').replace('.', '_')\n",
    "\n",
    "@app.route(\"/ingest\", methods=[\"POST\"])\n",
    "def ingest():\n",
    "    try:\n",
    "        #  1. Authorization\n",
    "        auth_header = request.headers.get(\"Authorization\")\n",
    "        if auth_header != f\"Bearer {AUTH_TOKEN}\":\n",
    "            return jsonify({\"status\": \"error\", \"message\": \"Unauthorized\"}), 401\n",
    "\n",
    "        #  2. Get data\n",
    "        data = request.get_json()\n",
    "        if not data:\n",
    "            return jsonify({\"status\": \"error\", \"message\": \"No JSON payload received\"}), 400\n",
    "\n",
    "        #  3. Prepare timestamp & DB name\n",
    "        hostname = data.get(\"hostname\", \"unknown_host\")\n",
    "        db_name = sanitize_db_name(hostname) + \"_db\"\n",
    "\n",
    "        print(f\" Receiving data for agent: {hostname}, DB: {db_name}\")\n",
    "\n",
    "        timestamp = data.get(\"timestamp\", datetime.utcnow().timestamp())\n",
    "        timestamp = datetime.fromtimestamp(timestamp).strftime('%Y-%m-%d %H:%M:%S')\n",
    "\n",
    "        #  4. Connect & create the agent-specific database if not exists\n",
    "        conn = mysql.connector.connect(**db_config)\n",
    "        cursor = conn.cursor()\n",
    "        create_database(cursor, db_name)\n",
    "        conn.commit()\n",
    "        cursor.close()\n",
    "        conn.close()\n",
    "\n",
    "        #  5. Connect again WITH the new DB in order to create tables\n",
    "        db_config_with_db = db_config.copy()\n",
    "        db_config_with_db['database'] = db_name\n",
    "        conn = mysql.connector.connect(**db_config_with_db)\n",
    "        cursor = conn.cursor()\n",
    "\n",
    "        #  6. Create system_metrics table (if not exists) and insert data\n",
    "        cursor.execute('''\n",
    "            CREATE TABLE IF NOT EXISTS system_metrics (\n",
    "                id INT AUTO_INCREMENT PRIMARY KEY,\n",
    "                timestamp DATETIME,\n",
    "                memory_total FLOAT,\n",
    "                memory_used FLOAT,\n",
    "                memory_available FLOAT,\n",
    "                memory_percent FLOAT,\n",
    "                cpu_percent FLOAT,\n",
    "                disk_total FLOAT,\n",
    "                disk_used FLOAT,\n",
    "                disk_free FLOAT,\n",
    "                disk_percent FLOAT,\n",
    "                network_bytes_sent BIGINT,\n",
    "                network_bytes_recv BIGINT\n",
    "            )\n",
    "        ''')\n",
    "\n",
    "        #  7. Insert system metrics\n",
    "        cursor.execute('''\n",
    "            INSERT INTO system_metrics (\n",
    "                timestamp, memory_total, memory_used, memory_available, memory_percent,\n",
    "                cpu_percent, disk_total, disk_used, disk_free, disk_percent,\n",
    "                network_bytes_sent, network_bytes_recv\n",
    "            ) VALUES (%s, %s, %s, %s, %s, %s, %s, %s, %s, %s, %s, %s)\n",
    "        ''', (\n",
    "            timestamp,\n",
    "            data.get(\"memory_total\", 0), data.get(\"memory_used\", 0),\n",
    "            data.get(\"memory_available\", 0), data.get(\"memory_percent\", 0),\n",
    "            data.get(\"cpu_percent\", 0),\n",
    "            data.get(\"disk_total\", 0), data.get(\"disk_used\", 0),\n",
    "            data.get(\"disk_free\", 0), data.get(\"disk_percent\", 0),\n",
    "            data.get(\"network_bytes_sent\", 0), data.get(\"network_bytes_recv\", 0)\n",
    "        ))\n",
    "\n",
    "        #  8. Create process_metrics table (if not exists)\n",
    "        cursor.execute('''\n",
    "            CREATE TABLE IF NOT EXISTS process_metrics (\n",
    "                id INT AUTO_INCREMENT PRIMARY KEY,\n",
    "                agent_id VARCHAR(255),\n",
    "                timestamp DATETIME,\n",
    "                pid INT,\n",
    "                process_name VARCHAR(255),\n",
    "                username VARCHAR(255),\n",
    "                cpu_percent FLOAT,\n",
    "                memory_percent FLOAT,\n",
    "                cmdline TEXT,\n",
    "                open_file TEXT,\n",
    "                is_suspicious TINYINT(1)\n",
    "            )\n",
    "        ''')\n",
    "\n",
    "        #  9. Insert process data\n",
    "        insert_process_query = '''\n",
    "            INSERT INTO process_metrics (\n",
    "                agent_id, timestamp, pid, process_name, username,\n",
    "                cpu_percent, memory_percent, cmdline, open_file, is_suspicious\n",
    "            ) VALUES (%s, %s, %s, %s, %s, %s, %s, %s, %s, %s)\n",
    "        '''\n",
    "\n",
    "        for proc in data.get(\"processes\", []):\n",
    "            proc_ts = proc.get(\"timestamp\", datetime.utcnow().timestamp())\n",
    "            proc_ts = datetime.fromtimestamp(proc_ts).strftime('%Y-%m-%d %H:%M:%S')\n",
    "            is_suspicious = 1 if proc.get(\"is_suspicious\", False) else 0\n",
    "\n",
    "            cursor.execute(insert_process_query, (\n",
    "                proc.get(\"agent_id\"),\n",
    "                proc_ts,\n",
    "                proc.get(\"pid\"),\n",
    "                proc.get(\"process_name\"),\n",
    "                proc.get(\"username\"),\n",
    "                proc.get(\"cpu_percent\"),\n",
    "                proc.get(\"memory_percent\"),\n",
    "                proc.get(\"cmdline\"),\n",
    "                proc.get(\"open_file\"),\n",
    "                is_suspicious\n",
    "            ))\n",
    "\n",
    "        conn.commit()\n",
    "        cursor.close()\n",
    "        conn.close()\n",
    "\n",
    "        print(f\"Data ingested into database: {db_name}\")\n",
    "        return jsonify({\"status\": \"success\", \"message\": f\"Data ingested into {db_name}\"}), 200\n",
    "\n",
    "    except Exception as e:\n",
    "        print(\" Server Error:\", str(e))\n",
    "        return jsonify({\"status\": \"error\", \"message\": str(e)}), 500\n",
    "\n",
    "if __name__ == \"__main__\":\n",
    "    app.run(host=\"0.0.0.0\", port=5000, debug=True, use_reloader=False)\n"
   ]
  }
 ],
 "metadata": {
  "kernelspec": {
   "display_name": "Python 3",
   "language": "python",
   "name": "python3"
  },
  "language_info": {
   "codemirror_mode": {
    "name": "ipython",
    "version": 3
   },
   "file_extension": ".py",
   "mimetype": "text/x-python",
   "name": "python",
   "nbconvert_exporter": "python",
   "pygments_lexer": "ipython3",
   "version": "3.13.1"
  }
 },
 "nbformat": 4,
 "nbformat_minor": 5
}
